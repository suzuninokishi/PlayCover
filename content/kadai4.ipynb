{
  "cells": [
    {
      "cell_type": "markdown",
      "metadata": {
        "id": "yKB9b383UC05"
      },
      "source": [
        "# コンピュータの言語 2024：課題４\n",
        "\n",
        "今回の授業では「フローチャートとアルゴリズム」ということで，順次構造，分岐，繰り返しについて学びました．これらを Python のプログラムで書いてみましょう．\n",
        "\n",
        "__「練習」以外のプログラムも必ず実行するようにしてください__"
      ]
    },
    {
      "cell_type": "markdown",
      "metadata": {
        "id": "0i0UtnZDUC0-"
      },
      "source": [
        "## Python での順次構造\n",
        "\n",
        "通常，プログラムは上から下へと実行されますので，複数行のプログラムを書けば，そのまま順次構造となります．\n",
        "\n",
        "## 練習1\n",
        "\n",
        "![](https://ogilab.kutc.kansai-u.ac.jp/downloads/complang/figs_kadai04/kadai04_01.png)\n",
        "\n",
        "これは簡単ですね．\n",
        "```python\n",
        "a = 4\n",
        "b = 5\n",
        "print(a * b)\n",
        "```"
      ]
    },
    {
      "cell_type": "code",
      "execution_count": 1,
      "metadata": {
        "check": 1,
        "colab": {
          "base_uri": "https://localhost:8080/"
        },
        "id": "9ttiDyprUC1C",
        "outputId": "5c4e0af3-9d2e-4738-f1b2-ea464b984367"
      },
      "outputs": [
        {
          "output_type": "stream",
          "name": "stdout",
          "text": [
            "20\n"
          ]
        }
      ],
      "source": [
        "a = 4\n",
        "b = 5\n",
        "print(a * b)"
      ]
    },
    {
      "cell_type": "markdown",
      "metadata": {
        "id": "b2pe5qhMUC1J"
      },
      "source": [
        "## ユーザーからの入力\n",
        "\n",
        "python でユーザーからの入力を受け付けるときには ```input()```　という関数を使います．\n",
        "\n",
        "```python\n",
        "a = input()\n",
        "print(a)\n",
        "```\n",
        "\n",
        "```input()``` はユーザーからの入力を __文字列(string)__ として受け付けて返します．この場合は a は文字として扱われ，```a*3``` のように書くと，その文字を３回繰り返したものが出力されます．"
      ]
    },
    {
      "cell_type": "code",
      "execution_count": 2,
      "metadata": {
        "check": 2,
        "colab": {
          "base_uri": "https://localhost:8080/"
        },
        "id": "lqrv01LsUC1O",
        "outputId": "d06a6490-7d9d-436e-ec5f-a3c0c7c21b11"
      },
      "outputs": [
        {
          "output_type": "stream",
          "name": "stdout",
          "text": [
            "数を入力してください３\n",
            "３３３\n"
          ]
        }
      ],
      "source": [
        "a = input(\"数を入力してください\")\n",
        "print(a*3)"
      ]
    },
    {
      "cell_type": "markdown",
      "metadata": {
        "id": "XlD5o1O8UC1S"
      },
      "source": [
        "例えば 3 を入力すると 9 にはならずに，３回繰り返しで表示されていますね（文字列*3 は３回繰り返して表示するという命令になります）．__整数__ として入力を受け付けるために，文字を __整数(integer)__ に変換する関数 ```int()``` を使います．"
      ]
    },
    {
      "cell_type": "code",
      "execution_count": 3,
      "metadata": {
        "check": 3,
        "colab": {
          "base_uri": "https://localhost:8080/"
        },
        "id": "tlG16vosUC1T",
        "outputId": "2f87bf77-25e1-4998-8e6c-da9e2dd1f8f3"
      },
      "outputs": [
        {
          "output_type": "stream",
          "name": "stdout",
          "text": [
            "数を入力してください３\n",
            "9\n"
          ]
        }
      ],
      "source": [
        "a = input(\"数を入力してください\")\n",
        "b = int(a)\n",
        "print(b*3)"
      ]
    },
    {
      "cell_type": "markdown",
      "metadata": {
        "id": "OxKSdx60UC1Y"
      },
      "source": [
        "## 練習2\n",
        "\n",
        "それでは，```input()``` を使って問題をやってみましょう．\n",
        "\n",
        "![](https://ogilab.kutc.kansai-u.ac.jp/downloads/complang/figs_kadai04/kadai04_02.png)\n",
        "\n",
        "上記のフローチャートに合うように，下のXXXXXXXを適切なものにしてください．（この問題を最初に作成された時(2013年ごろ)には，消費税は5%でした）"
      ]
    },
    {
      "cell_type": "code",
      "execution_count": 4,
      "metadata": {
        "check": 4,
        "colab": {
          "base_uri": "https://localhost:8080/"
        },
        "id": "aAssusbOUC1Z",
        "outputId": "b4c74348-2735-410a-d4f9-5deeb54a7feb"
      },
      "outputs": [
        {
          "output_type": "stream",
          "name": "stdout",
          "text": [
            "買い物の合計金額（税別）は？3000\n",
            "支払いは2520.0円です\n",
            "支払いは2520円です\n"
          ]
        }
      ],
      "source": [
        "a = int(input(\"買い物の合計金額（税別）は？\"))\n",
        "\n",
        "b = a*0.8\n",
        "c = b*1.05\n",
        "\n",
        "print(f\"支払いは{c}円です\")        #float 型で表示\n",
        "print(f\"支払いは{int(c)}円です\")   #int 型で表示"
      ]
    },
    {
      "cell_type": "markdown",
      "metadata": {
        "id": "dki2eD8DUC1h"
      },
      "source": [
        "最後の c の出力では，小数点以下は切り捨てるために，少数である c を整数にするために ```int()``` 関数を使ってcを整数に変換しています．"
      ]
    },
    {
      "cell_type": "markdown",
      "metadata": {
        "id": "7-dOJ785UC1i"
      },
      "source": [
        "## 練習3\n",
        "8本足のタコと10本足のイカがいます．タコとイカの数を入力すると，頭の数と足の数を出力するプログラムを作成したいとします．プログラムを完成させるためには，以下のプログラムの __xx(1)xx__ と __xx(2)xx__ の部分に何を入れればよいでしょうか？プログラムを完成させて実行し，タコは２匹，イカは３匹として入力してください．"
      ]
    },
    {
      "cell_type": "code",
      "execution_count": 5,
      "metadata": {
        "check": 5,
        "colab": {
          "base_uri": "https://localhost:8080/"
        },
        "id": "hwjF63h4UC1j",
        "outputId": "98d29f76-a9de-4651-e1cf-be7bada53392"
      },
      "outputs": [
        {
          "output_type": "stream",
          "name": "stdout",
          "text": [
            "タコは何匹？2\n",
            "イカは何匹？3\n",
            "頭の数は5で，足の数は46です．\n"
          ]
        }
      ],
      "source": [
        "tako = int(input(\"タコは何匹？\"))\n",
        "ika  = int(input(\"イカは何匹？\"))\n",
        "\n",
        "atama = tako + ika\n",
        "asi = tako*8 + ika*10\n",
        "\n",
        "print(f\"頭の数は{atama}で，足の数は{asi}です．\")"
      ]
    },
    {
      "cell_type": "markdown",
      "metadata": {
        "id": "l266gATtUC1l"
      },
      "source": [
        "## 練習4\n",
        "\n",
        "![](https://ogilab.kutc.kansai-u.ac.jp/downloads/complang/figs_kadai04/kadai04_03.png)\n",
        "\n",
        "上記のフローチャートと同じになるように，以下の XXXXXX 部分のプログラムを書いてください．"
      ]
    },
    {
      "cell_type": "code",
      "execution_count": 6,
      "metadata": {
        "check": 6,
        "colab": {
          "base_uri": "https://localhost:8080/"
        },
        "id": "jM4F_LpIUC1l",
        "outputId": "2fba6adb-0338-434f-f3c2-71baebd6e6c1"
      },
      "outputs": [
        {
          "output_type": "stream",
          "name": "stdout",
          "text": [
            "aの値は5です\n",
            "bの値は3です\n"
          ]
        }
      ],
      "source": [
        "a = 3\n",
        "b = 5\n",
        "\n",
        "c = a\n",
        "a = b\n",
        "b = c\n",
        "\n",
        "print(f\"aの値は{a}です\")\n",
        "print(f\"bの値は{c}です\")"
      ]
    },
    {
      "cell_type": "markdown",
      "metadata": {
        "id": "pv8EyURjUC1n"
      },
      "source": [
        "## 選択構造(分岐):if\n",
        "\n",
        "## if/else\n",
        "\n",
        "Python で選択構造を表現するには ```if``` と ```else``` を使います．\n",
        "\n",
        "```python\n",
        "if 条件:\n",
        "    実行1\n",
        "else:\n",
        "    実行2\n",
        "```\n",
        "\n",
        "のように書き，条件が ___True___ であれば ___実行1___ が実行され， ___False___ であれば ___実行2___ が実行されます．前回も注意しましたが， ___if で実行される範囲はスペース４つ分で字下げすることに注意してください．___"
      ]
    },
    {
      "cell_type": "markdown",
      "metadata": {
        "id": "Zr5RbI5fUC1o"
      },
      "source": [
        "## 練習5\n",
        "\n",
        "![](https://ogilab.kutc.kansai-u.ac.jp/downloads/complang/figs_kadai04/kadai04_04.png)\n",
        "\n",
        "上記の問題をプログラムした時，以下のプログラムのXXXXXXXに```\"卒業可能です．\"``` と ```\"卒業できません\"``` のどちらかを入れてください．"
      ]
    },
    {
      "cell_type": "code",
      "execution_count": 7,
      "metadata": {
        "check": 7,
        "colab": {
          "base_uri": "https://localhost:8080/"
        },
        "id": "6ZkSBPMBUC1p",
        "outputId": "39772ce9-2ceb-43e7-e2be-32d6947e64fc"
      },
      "outputs": [
        {
          "output_type": "stream",
          "name": "stdout",
          "text": [
            "講義科目の取得単位数は？20\n",
            "実習科目の取得単位数は？10\n",
            "在籍年数は?5\n",
            "卒業できません\n"
          ]
        }
      ],
      "source": [
        "a = int(input(\"講義科目の取得単位数は？\"))\n",
        "b = int(input(\"実習科目の取得単位数は？\"))\n",
        "c = int(input(\"在籍年数は?\"))\n",
        "\n",
        "if a>=50:\n",
        "    if b>=12:\n",
        "        if c<=8:\n",
        "            print(\"卒業可能です．\")\n",
        "        else:\n",
        "            print(\"卒業できません\")\n",
        "    else:\n",
        "        print(\"卒業できません\")\n",
        "else:\n",
        "    print(\"卒業できません\")"
      ]
    },
    {
      "cell_type": "markdown",
      "metadata": {
        "id": "UsBy6SU4UC1t"
      },
      "source": [
        "少し入り組んでいてややこしいですね．条件の部分は ```and``` や ```or``` を使って接続することができます．"
      ]
    },
    {
      "cell_type": "code",
      "execution_count": 8,
      "metadata": {
        "check": 8,
        "colab": {
          "base_uri": "https://localhost:8080/"
        },
        "id": "FLv42OmRUC1u",
        "outputId": "4ec95eb7-75a4-4d67-906e-72ef683fa4c5"
      },
      "outputs": [
        {
          "output_type": "stream",
          "name": "stdout",
          "text": [
            "講義科目の取得単位数は？60\n",
            "実習科目の取得単位数は？15\n",
            "在籍年数は?7\n",
            "卒業可能です．\n"
          ]
        }
      ],
      "source": [
        "a = int(input(\"講義科目の取得単位数は？\"))\n",
        "b = int(input(\"実習科目の取得単位数は？\"))\n",
        "c = int(input(\"在籍年数は?\"))\n",
        "\n",
        "if (a>=50) and (b>=12) and (c<=8):\n",
        "    print(\"卒業可能です．\")\n",
        "else:\n",
        "    print(\"卒業できません\")"
      ]
    },
    {
      "cell_type": "markdown",
      "metadata": {
        "id": "NkbYOE-hUC1x"
      },
      "source": [
        "授業では，否定の条件での構成できることも紹介しました．「どれか一つでも条件を満たしていなかったら不合格」は ```or``` を使って書くことができます．```or``` を使うと，上のプログラムは以下のようになります．"
      ]
    },
    {
      "cell_type": "code",
      "execution_count": 9,
      "metadata": {
        "check": 9,
        "colab": {
          "base_uri": "https://localhost:8080/"
        },
        "id": "dOKMiXwaUC1z",
        "outputId": "caf6c157-2574-4359-84dd-539beaf81ca7"
      },
      "outputs": [
        {
          "output_type": "stream",
          "name": "stdout",
          "text": [
            "講義科目の取得単位数は？40\n",
            "実習科目の取得単位数は？20\n",
            "在籍年数は?5\n",
            "卒業できません\n"
          ]
        }
      ],
      "source": [
        "a = int(input(\"講義科目の取得単位数は？\"))\n",
        "b = int(input(\"実習科目の取得単位数は？\"))\n",
        "c = int(input(\"在籍年数は?\"))\n",
        "\n",
        "if (a<50) or (b<12) or (c>8):\n",
        "    print(\"卒業できません\")\n",
        "else:\n",
        "    print(\"卒業可能です．\")"
      ]
    },
    {
      "cell_type": "markdown",
      "metadata": {
        "id": "C31b4F6kUC2N"
      },
      "source": [
        "## 練習6\n",
        "\n",
        "以下のフローチャートについて\n",
        "\n",
        "![](https://ogilab.kutc.kansai-u.ac.jp/downloads/complang/figs_kadai04/kadai04_05.png)\n",
        "\n",
        "このフローチャート通りにプログラムが動くように，下のプログラムの xxxxxxxx に適切な式を入れてください．"
      ]
    },
    {
      "cell_type": "code",
      "execution_count": 10,
      "metadata": {
        "check": 10,
        "colab": {
          "base_uri": "https://localhost:8080/"
        },
        "id": "-8PLWQVWUC2O",
        "outputId": "e4b18a31-2552-4908-aa7d-0445ef186d85"
      },
      "outputs": [
        {
          "output_type": "stream",
          "name": "stdout",
          "text": [
            "年齢を入力してください:25\n",
            "あなたは大阪市民ですか？yes または no で答えてくださいno\n",
            "割引はありません\n",
            "おわり\n"
          ]
        }
      ],
      "source": [
        "a = int(input(\"年齢を入力してください:\"))\n",
        "b = input(\"あなたは大阪市民ですか？yes または no で答えてください\")\n",
        "if b==\"no\":\n",
        "    print(\"割引はありません\")\n",
        "else:\n",
        "    if a <= 12:\n",
        "        print(\"特別割引になります\")\n",
        "    else:\n",
        "        if a >= 65:\n",
        "            print(\"特別割引になります\")\n",
        "        else:\n",
        "            print(\"優待割引になります\")\n",
        "print(\"おわり\")"
      ]
    },
    {
      "cell_type": "markdown",
      "metadata": {
        "id": "dfapo4t0UC2Q"
      },
      "source": [
        "## 繰り返し: for\n",
        "\n",
        "### range関数\n",
        "何度も繰り返す処理は，以下のように ```range``` を使って書くことができます．\n",
        "\n",
        "```python\n",
        "for 変数 in range(繰り返し回数):\n",
        "    繰り返したい処理\n",
        "```"
      ]
    },
    {
      "cell_type": "code",
      "execution_count": 1,
      "metadata": {
        "check": 11,
        "colab": {
          "base_uri": "https://localhost:8080/"
        },
        "id": "xkGcVaj4UC2Q",
        "outputId": "3d913a3f-f5c8-4f38-e2bf-af9447ebe9d5"
      },
      "outputs": [
        {
          "output_type": "stream",
          "name": "stdout",
          "text": [
            "繰り返し 0 回目\n",
            "繰り返し 1 回目\n",
            "繰り返し 2 回目\n",
            "繰り返し 3 回目\n",
            "繰り返し 4 回目\n",
            "繰り返し 5 回目\n",
            "繰り返し 6 回目\n",
            "繰り返し 7 回目\n",
            "繰り返し 8 回目\n",
            "繰り返し 9 回目\n"
          ]
        }
      ],
      "source": [
        "for i in range(10):\n",
        "    print(\"繰り返し\",i,\"回目\")"
      ]
    },
    {
      "cell_type": "markdown",
      "metadata": {
        "id": "crnxGh_lUC2T"
      },
      "source": [
        "range は\n",
        "```python\n",
        "range(最初の数, 最後の数, 差分)\n",
        "```\n",
        "のような使い方もできます．"
      ]
    },
    {
      "cell_type": "code",
      "execution_count": 2,
      "metadata": {
        "check": 12,
        "colab": {
          "base_uri": "https://localhost:8080/"
        },
        "id": "eq72neFTUC2T",
        "outputId": "18b1b53d-dfd3-4502-b419-9b80d4abf0e7"
      },
      "outputs": [
        {
          "output_type": "stream",
          "name": "stdout",
          "text": [
            "0\n",
            "2\n",
            "4\n",
            "6\n",
            "8\n"
          ]
        }
      ],
      "source": [
        "for i in range(0,10,2):\n",
        "    print(i)"
      ]
    },
    {
      "cell_type": "markdown",
      "metadata": {
        "id": "xmILKdW4UC2U"
      },
      "source": [
        "__「最後の数」は含まれない__ことに注意する必要があります．"
      ]
    },
    {
      "cell_type": "markdown",
      "metadata": {
        "id": "hRm2BWQEUC2V"
      },
      "source": [
        "## 練習7\n",
        "![](https://ogilab.kutc.kansai-u.ac.jp/downloads/complang/figs_kadai04/kadai04_06.png)\n",
        "\n",
        "ややこしいですが，ループ記号で ```i:1,1,i>10``` というのは，カウンタ変数が i で，初期値が1, 増分が1, 終了条件が10より大きくなったら，ということで，10まで繰り返されます．つまり，1から10までの和を求めるプログラムですが，python で書くと，以下の XXX は何を書けば良いでしょうか？"
      ]
    },
    {
      "cell_type": "code",
      "execution_count": 2,
      "metadata": {
        "check": 13,
        "colab": {
          "base_uri": "https://localhost:8080/"
        },
        "id": "1VxNBZcjUC2W",
        "outputId": "b0e50647-a105-4624-d049-0660bcf7456b"
      },
      "outputs": [
        {
          "output_type": "stream",
          "name": "stdout",
          "text": [
            "i= 1\n",
            "i= 2\n",
            "i= 3\n",
            "i= 4\n",
            "i= 5\n",
            "i= 6\n",
            "i= 7\n",
            "i= 8\n",
            "i= 9\n",
            "i= 10\n",
            "sum= 55\n"
          ]
        }
      ],
      "source": [
        "sum = 0\n",
        "\n",
        "for i in range(1,11):\n",
        "    print(\"i=\",i)\n",
        "    sum = sum+i\n",
        "\n",
        "print(\"sum=\",sum)"
      ]
    },
    {
      "cell_type": "markdown",
      "metadata": {
        "id": "tFPrvkJtUC2X"
      },
      "source": [
        "## 練習8\n",
        "\n",
        "以下のフローチャートについて\n",
        "\n",
        "![](https://ogilab.kutc.kansai-u.ac.jp/downloads/complang/figs_kadai04/kadai04_07.png)\n",
        "\n",
        "このフローチャート通りに動くようにするためには，以下のプログラムの XX に何を入れればよいでしょうか？"
      ]
    },
    {
      "cell_type": "code",
      "execution_count": 3,
      "metadata": {
        "check": 14,
        "colab": {
          "base_uri": "https://localhost:8080/"
        },
        "id": "5STmLLp5UC2Z",
        "outputId": "15bdc3e3-231d-43af-9ced-8f6f0d2ae273"
      },
      "outputs": [
        {
          "output_type": "stream",
          "name": "stdout",
          "text": [
            "kを入力してください5\n",
            "sum= 15\n"
          ]
        }
      ],
      "source": [
        "k = int(input(\"kを入力してください\"))\n",
        "\n",
        "sum=0\n",
        "for i in range(0,k+1 ):\n",
        "    sum=sum+i\n",
        "\n",
        "print(\"sum=\",sum)"
      ]
    },
    {
      "cell_type": "markdown",
      "metadata": {
        "id": "SvVA5bgwUC2a"
      },
      "source": [
        "## 練習9\n",
        "以下のフローチャートについて\n",
        "\n",
        "![](https://ogilab.kutc.kansai-u.ac.jp/downloads/complang/figs_kadai04/kadai04_08.png)\n",
        "\n",
        "このフローチャート通りに動くようにするためには，以下のプログラムの XXXXXXXX に何を入れればよいでしょうか？"
      ]
    },
    {
      "cell_type": "markdown",
      "source": [],
      "metadata": {
        "id": "MHzFZEfUksqa"
      }
    },
    {
      "cell_type": "code",
      "execution_count": 6,
      "metadata": {
        "check": 15,
        "colab": {
          "base_uri": "https://localhost:8080/"
        },
        "id": "zdWN18KtUC2c",
        "outputId": "e494d7c5-0199-4f55-ca0a-16e35c233c6a"
      },
      "outputs": [
        {
          "output_type": "stream",
          "name": "stdout",
          "text": [
            "45\n"
          ]
        }
      ],
      "source": [
        "sum=0\n",
        "\n",
        "for i in range(5,14,2):\n",
        "    sum += i\n",
        "\n",
        "print(sum)"
      ]
    },
    {
      "cell_type": "markdown",
      "metadata": {
        "id": "gaNG4yP-UC2d"
      },
      "source": [
        "## if...elif...else"
      ]
    },
    {
      "cell_type": "markdown",
      "metadata": {
        "id": "Nh7_dvS8UC2f"
      },
      "source": [
        "条件がたくさんある場合の分岐はどのように書いたら良いでしょうか？\n",
        "\n",
        "他のプログラム言語には switch という命令があり，例えばC言語では\n",
        "```c\n",
        "switch(式){\n",
        "    case 条件1:\n",
        "        命令1;\n",
        "        break;\n",
        "    case 条件2:\n",
        "        命令2;\n",
        "        break;\n",
        "}\n",
        "```\n",
        "のように書きます．\n",
        "\n",
        "Python には switch はありません．その代わり，```elif``` という命令で条件を並べます．\n",
        "\n",
        "```python\n",
        "\n",
        "if 条件１:\n",
        "    命令１\n",
        "elif 条件２:\n",
        "    命令２\n",
        "elif 条件３:\n",
        "    命令３\n",
        "else:\n",
        "    命令４\n",
        "```"
      ]
    },
    {
      "cell_type": "code",
      "execution_count": 7,
      "metadata": {
        "check": 16,
        "colab": {
          "base_uri": "https://localhost:8080/"
        },
        "id": "2jCe-eLWUC2f",
        "outputId": "7cbe81fa-938e-4810-c266-ebdfc621f273"
      },
      "outputs": [
        {
          "output_type": "stream",
          "name": "stdout",
          "text": [
            "あなたの年齢を教えてください19\n",
            "親の言うことをよく聞いてください\n"
          ]
        }
      ],
      "source": [
        "# 例：以下は，あるコミュニケーションロボットの一部のプログラムです．\n",
        "\n",
        "x = int(input(\"あなたの年齢を教えてください\"))\n",
        "\n",
        "if 0<=x<10:\n",
        "    message = \"ぼっちゃんかわいいね\"\n",
        "elif 10<=x<20:\n",
        "    message = \"親の言うことをよく聞いてください\"\n",
        "elif 20<=x<=30:\n",
        "    message = \"まだまだケツが青いですね\"\n",
        "else:\n",
        "    message = \"ようやく一人前になれましたか？\"\n",
        "\n",
        "print(message)"
      ]
    },
    {
      "cell_type": "markdown",
      "metadata": {
        "id": "oyBhDqlAUC2h"
      },
      "source": [
        "## 練習10\n",
        "\n",
        "BMI は身長$h[m]$と体重$w[kg]$から以下の式で計算することができます．\n",
        "\n",
        "$$\n",
        "BMI = \\frac{w}{h^2}\n",
        "$$\n",
        "\n",
        "この数字を元に\n",
        "\n",
        "| BMI | 評価 |\n",
        "|----| -----|\n",
        "| 18.5未満 | やせている |\n",
        "| 18.5以上25未満 | ふつう |\n",
        "| 25以上35未満 | ちょっと太っている |\n",
        "| 35以上 | かなり太っている |\n",
        "\n",
        "のように評価されます．\n",
        "\n",
        "身長と体重を入力したらBMIの評価が表示されるように，以下のプログラムを完成させてください．（単位を変換しなければならないことに注意してください）"
      ]
    },
    {
      "cell_type": "code",
      "execution_count": 9,
      "metadata": {
        "check": 17,
        "id": "eNzonaHoUC2h"
      },
      "outputs": [],
      "source": [
        "h = 169.0 #身長[cm]\n",
        "w = 68.0  #体重[kg]\n",
        "\n",
        "bmi = w / (h/100 ** 2)\n",
        "\n",
        "if bmi<18.5:\n",
        "    やせている\n",
        "elif bmi<25:\n",
        "    ふつう\n",
        "elif bmi<30:\n",
        "    ちょっと太っている\n",
        "elif bmi<35:\n",
        "    かなり太っている\n",
        ""
      ]
    },
    {
      "cell_type": "markdown",
      "metadata": {
        "id": "YpFgQ9Zk5q2R"
      },
      "source": [
        "## 練習11\n",
        "\n",
        "以下は 1 から 20 までの数について3で割ったあまりを出力するプログラムです．以下の XXXX を埋めてください．"
      ]
    },
    {
      "cell_type": "code",
      "execution_count": 10,
      "metadata": {
        "id": "aI8VMGcR5q2S",
        "outputId": "011b74e5-34d6-4d11-cdf6-3b31c24dcd34",
        "colab": {
          "base_uri": "https://localhost:8080/"
        }
      },
      "outputs": [
        {
          "output_type": "stream",
          "name": "stdout",
          "text": [
            "1を3で割ったあまりは1です\n",
            "2を3で割ったあまりは2です\n",
            "3を3で割ったあまりは0です\n",
            "4を3で割ったあまりは1です\n",
            "5を3で割ったあまりは2です\n",
            "6を3で割ったあまりは0です\n",
            "7を3で割ったあまりは1です\n",
            "8を3で割ったあまりは2です\n",
            "9を3で割ったあまりは0です\n",
            "10を3で割ったあまりは1です\n",
            "11を3で割ったあまりは2です\n",
            "12を3で割ったあまりは0です\n",
            "13を3で割ったあまりは1です\n",
            "14を3で割ったあまりは2です\n",
            "15を3で割ったあまりは0です\n",
            "16を3で割ったあまりは1です\n",
            "17を3で割ったあまりは2です\n",
            "18を3で割ったあまりは0です\n",
            "19を3で割ったあまりは1です\n",
            "20を3で割ったあまりは2です\n"
          ]
        }
      ],
      "source": [
        "for i in range(1,21):\n",
        "    amari = i % 3\n",
        "    print(f\"{i}を3で割ったあまりは{amari}です\")"
      ]
    },
    {
      "cell_type": "markdown",
      "metadata": {
        "id": "wQdUrqr95q2S"
      },
      "source": [
        "## 練習12\n",
        "\n",
        "以下は 1 から 100 までの数の中で 37 で割りきれる数をかぞえるプログラムです．以下の XXXXX を埋めてください．"
      ]
    },
    {
      "cell_type": "code",
      "execution_count": 11,
      "metadata": {
        "id": "Q6yhTGKj5q2S",
        "outputId": "81166457-6949-486b-c782-317dd8bf12be",
        "colab": {
          "base_uri": "https://localhost:8080/"
        }
      },
      "outputs": [
        {
          "output_type": "stream",
          "name": "stdout",
          "text": [
            "1 から 100 までで 37 で割りきれる数は2個でした\n"
          ]
        }
      ],
      "source": [
        "num = 0\n",
        "for i in range(1,101):\n",
        "    if i % 37 == 0 :\n",
        "        num = num+1\n",
        "\n",
        "print(f\"1 から 100 までで 37 で割りきれる数は{num}個でした\")"
      ]
    },
    {
      "cell_type": "markdown",
      "metadata": {
        "id": "oWM0vka5UC2j"
      },
      "source": [
        "## 練習13\n",
        "\n",
        "プログラムの[FizzBuzz](https://ja.wikipedia.org/wiki/Fizz_Buzz) という問題があります．\n",
        "\n",
        "* [「どうしてプログラマに・・・プログラムが書けないのか?」](http://www.aoky.net/articles/jeff_atwood/why_cant_programmers_program.htm)\n",
        "\n",
        "というエッセイによってプログラマを見分ける問題として有名になったそうです．\n",
        "具体的には以下のような問題になっています．\n",
        "\n",
        "```\n",
        "1から100までの数をプリントするプログラムを書け。\n",
        "ただし3の倍数のときは数の代わりに｢Fizz｣と、\n",
        "5の倍数のときは｢Buzz｣とプリントし、\n",
        "3と5両方の倍数の場合には｢FizzBuzz｣とプリントすること。\n",
        "```\n",
        "\n",
        "これを ```if, elif, else``` を使って  Python で書いてみてください．"
      ]
    },
    {
      "cell_type": "code",
      "execution_count": 13,
      "metadata": {
        "check": 18,
        "colab": {
          "base_uri": "https://localhost:8080/"
        },
        "id": "r0iLeuSHUC2j",
        "outputId": "bde9c8ee-52b2-4467-9e19-c7112c446dfd"
      },
      "outputs": [
        {
          "output_type": "stream",
          "name": "stdout",
          "text": [
            "1\n",
            "2\n",
            "Fizz\n",
            "4\n",
            "Buzz\n",
            "Fizz\n",
            "7\n",
            "8\n",
            "Fizz\n",
            "Buzz\n",
            "11\n",
            "Fizz\n",
            "13\n",
            "14\n",
            "FizzBuzz\n",
            "16\n",
            "17\n",
            "Fizz\n",
            "19\n",
            "Buzz\n",
            "Fizz\n",
            "22\n",
            "23\n",
            "Fizz\n",
            "Buzz\n",
            "26\n",
            "Fizz\n",
            "28\n",
            "29\n",
            "FizzBuzz\n",
            "31\n",
            "32\n",
            "Fizz\n",
            "34\n",
            "Buzz\n",
            "Fizz\n",
            "37\n",
            "38\n",
            "Fizz\n",
            "Buzz\n",
            "41\n",
            "Fizz\n",
            "43\n",
            "44\n",
            "FizzBuzz\n",
            "46\n",
            "47\n",
            "Fizz\n",
            "49\n",
            "Buzz\n",
            "Fizz\n",
            "52\n",
            "53\n",
            "Fizz\n",
            "Buzz\n",
            "56\n",
            "Fizz\n",
            "58\n",
            "59\n",
            "FizzBuzz\n",
            "61\n",
            "62\n",
            "Fizz\n",
            "64\n",
            "Buzz\n",
            "Fizz\n",
            "67\n",
            "68\n",
            "Fizz\n",
            "Buzz\n",
            "71\n",
            "Fizz\n",
            "73\n",
            "74\n",
            "FizzBuzz\n",
            "76\n",
            "77\n",
            "Fizz\n",
            "79\n",
            "Buzz\n",
            "Fizz\n",
            "82\n",
            "83\n",
            "Fizz\n",
            "Buzz\n",
            "86\n",
            "Fizz\n",
            "88\n",
            "89\n",
            "FizzBuzz\n",
            "91\n",
            "92\n",
            "Fizz\n",
            "94\n",
            "Buzz\n",
            "Fizz\n",
            "97\n",
            "98\n",
            "Fizz\n",
            "Buzz\n"
          ]
        }
      ],
      "source": [
        "for i in range(1,101):\n",
        "  if i % 3 == 0 and i % 5 == 0:\n",
        "    print(\"FizzBuzz\")\n",
        "  elif i % 3 == 0:\n",
        "    print(\"Fizz\")\n",
        "  elif i % 5 == 0:\n",
        "    print(\"Buzz\")\n",
        "  else:\n",
        "    print(i)\n",
        "\n",
        "\n",
        "\n",
        "\n",
        "\n",
        ""
      ]
    },
    {
      "cell_type": "markdown",
      "metadata": {
        "id": "uBsvO9EgUC2l"
      },
      "source": [
        "## 課題提出\n"
      ]
    },
    {
      "cell_type": "markdown",
      "metadata": {
        "id": "5ekIfT-9UC2m"
      },
      "source": [
        "名前：染井凉花"
      ]
    },
    {
      "cell_type": "markdown",
      "metadata": {
        "id": "ADsm7wFXUC2n"
      },
      "source": [
        "学籍番号：情24-1001"
      ]
    },
    {
      "cell_type": "markdown",
      "metadata": {
        "id": "k7ClxJ-tUC2n"
      },
      "source": [
        "感想：かなり難しい。今後が不安。なにかコマンドのみをまとめた資料が欲しい。"
      ]
    },
    {
      "cell_type": "markdown",
      "metadata": {
        "id": "Rq9akNpWUC2o"
      },
      "source": [
        "ファイルを保存したら，このファイルをファイルメニューの「.ipynbをダウンロード」からダウンロードし，関大LMSで提出してください．"
      ]
    }
  ],
  "metadata": {
    "colab": {
      "name": "kadai4.ipynb のコピー",
      "provenance": []
    },
    "kernelspec": {
      "display_name": "Python 3 (ipykernel)",
      "language": "python",
      "name": "python3"
    },
    "language_info": {
      "codemirror_mode": {
        "name": "ipython",
        "version": 3
      },
      "file_extension": ".py",
      "mimetype": "text/x-python",
      "name": "python",
      "nbconvert_exporter": "python",
      "pygments_lexer": "ipython3",
      "version": "3.11.5"
    }
  },
  "nbformat": 4,
  "nbformat_minor": 0
}